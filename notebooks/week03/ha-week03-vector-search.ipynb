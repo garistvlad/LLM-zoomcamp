{
 "cells": [
  {
   "cell_type": "markdown",
   "id": "58f3dad8-08c1-4007-baf3-9a518b4ef73e",
   "metadata": {},
   "source": [
    "# Vector Search"
   ]
  },
  {
   "cell_type": "code",
   "execution_count": 22,
   "id": "41bac762-9c50-41b9-bb0a-eda8a38da36f",
   "metadata": {},
   "outputs": [],
   "source": [
    "from pathlib import Path\n",
    "import sys\n",
    "\n",
    "ROOT_DIR = Path(\".\").absolute().parent.parent\n",
    "sys.path.append(str(ROOT_DIR))"
   ]
  },
  {
   "cell_type": "code",
   "execution_count": 2,
   "id": "62170c9d-9f86-4bdf-b3f8-c8a3dbb132ae",
   "metadata": {},
   "outputs": [],
   "source": [
    "import torch"
   ]
  },
  {
   "cell_type": "code",
   "execution_count": 3,
   "id": "f916869d-5f0d-4e0f-ae6b-2ac6377eddb6",
   "metadata": {},
   "outputs": [
    {
     "name": "stdout",
     "output_type": "stream",
     "text": [
      "Using device `cpu`\n"
     ]
    }
   ],
   "source": [
    "device = torch.device(\"cuda\" if torch.cuda.is_available() else \"cpu\")\n",
    "print(f\"Using device `{device}`\")"
   ]
  },
  {
   "cell_type": "markdown",
   "id": "e66515f3-13ab-47d8-a7c6-067c8f538128",
   "metadata": {},
   "source": [
    "### Q1. Getting the embedding model"
   ]
  },
  {
   "cell_type": "code",
   "execution_count": 6,
   "id": "10cfcac2-9cef-4f3e-9d42-9eab423ceab7",
   "metadata": {},
   "outputs": [],
   "source": [
    "from sentence_transformers import SentenceTransformer"
   ]
  },
  {
   "cell_type": "code",
   "execution_count": 5,
   "id": "e8a13b26-9317-4207-b821-eef00d6b27f0",
   "metadata": {},
   "outputs": [],
   "source": [
    "model_name = \"multi-qa-distilbert-cos-v1\"\n",
    "embedding_model = SentenceTransformer(model_name, device=device)"
   ]
  },
  {
   "cell_type": "code",
   "execution_count": 7,
   "id": "abb4901f-a645-4f2c-b550-a448c840214d",
   "metadata": {},
   "outputs": [
    {
     "data": {
      "text/plain": [
       "0.078222655"
      ]
     },
     "execution_count": 7,
     "metadata": {},
     "output_type": "execute_result"
    }
   ],
   "source": [
    "user_question = \"I just discovered the course. Can I still join it?\"\n",
    "generated_embedding = embedding_model.encode(user_question)\n",
    "\n",
    "# what's the first value of a resulting vector?\n",
    "generated_embedding[0]"
   ]
  },
  {
   "cell_type": "markdown",
   "id": "19ff9ddf-e3ac-4075-b94c-e7c4e9563975",
   "metadata": {},
   "source": [
    "### Prepare the documents"
   ]
  },
  {
   "cell_type": "code",
   "execution_count": 23,
   "id": "5394a807-4bc7-4a65-a75e-c385ee55c9ef",
   "metadata": {},
   "outputs": [],
   "source": [
    "import json\n",
    "\n",
    "import numpy as np\n",
    "from tqdm import tqdm"
   ]
  },
  {
   "cell_type": "code",
   "execution_count": 8,
   "id": "34e9e5be-a494-4662-8c9f-f8c2cfbeb13a",
   "metadata": {},
   "outputs": [],
   "source": [
    "DATA_DIR = Path(ROOT_DIR, \"data\")"
   ]
  },
  {
   "cell_type": "code",
   "execution_count": 12,
   "id": "02d47644-fb0e-4b4f-8af1-209aa199fdcc",
   "metadata": {},
   "outputs": [],
   "source": [
    "# read docs with IDs\n",
    "with open(Path(DATA_DIR, \"documents-with-ids.json\")) as f_in:\n",
    "    documents = json.load(f_in)"
   ]
  },
  {
   "cell_type": "code",
   "execution_count": 18,
   "id": "7f11e838-be96-4376-8ba5-0c7a54ea576f",
   "metadata": {},
   "outputs": [
    {
     "name": "stdout",
     "output_type": "stream",
     "text": [
      "# of subset documents: 375\n"
     ]
    }
   ],
   "source": [
    "documents_subset = [i for i in documents if i.get(\"course\", \"\") == \"machine-learning-zoomcamp\"]\n",
    "print(f\"# of subset documents: {len(documents_subset):,d}\")"
   ]
  },
  {
   "cell_type": "markdown",
   "id": "fe8aaa9f-5d01-4f12-924b-4cf5c873de53",
   "metadata": {},
   "source": [
    "### Q2. Creating the embeddings"
   ]
  },
  {
   "cell_type": "code",
   "execution_count": 24,
   "id": "0b90d39b-0121-4ec8-9e52-3ce1bd5a079b",
   "metadata": {},
   "outputs": [
    {
     "name": "stderr",
     "output_type": "stream",
     "text": [
      "100%|████████████████████████████████████████████████████████████████████████████████████████████████████████████████████████████████████████████████████████████████████████████████████████████████████████████████████████████████████████████████████████████████████████████████████████████████████████████████████████████████████| 375/375 [00:11<00:00, 31.58it/s]\n"
     ]
    }
   ],
   "source": [
    "# generate embeddings for each doc from subset:\n",
    "embeddings = []\n",
    "for doc in tqdm(documents_subset):\n",
    "    question_i, text_i = doc.get(\"question\"), doc.get(\"text\")\n",
    "    qa_text_i = f\"{question_i} {text_i}\"\n",
    "    embed_i = embedding_model.encode(qa_text_i)\n",
    "    embeddings.append(embed_i)"
   ]
  },
  {
   "cell_type": "code",
   "execution_count": 25,
   "id": "6730e1cc-6b8b-4985-86a8-3d47124b5ebd",
   "metadata": {},
   "outputs": [
    {
     "data": {
      "text/plain": [
       "(375, 768)"
      ]
     },
     "execution_count": 25,
     "metadata": {},
     "output_type": "execute_result"
    }
   ],
   "source": [
    "# to matrix\n",
    "X = np.array(embeddings)\n",
    "X.shape"
   ]
  },
  {
   "cell_type": "markdown",
   "id": "7397adb2-87e3-4692-b199-16a32ae1a84d",
   "metadata": {},
   "source": [
    "### Q3. Search"
   ]
  },
  {
   "cell_type": "code",
   "execution_count": 32,
   "id": "63d59266-0148-4251-91e7-e345be8791b6",
   "metadata": {},
   "outputs": [
    {
     "data": {
      "text/plain": [
       "0.6506574"
      ]
     },
     "execution_count": 32,
     "metadata": {},
     "output_type": "execute_result"
    }
   ],
   "source": [
    "scores = X.dot(generated_embedding)\n",
    "scores.max()"
   ]
  },
  {
   "cell_type": "markdown",
   "id": "4277b4f4-fcf8-4768-8ae1-612532c8a116",
   "metadata": {},
   "source": [
    "### Vector Search"
   ]
  },
  {
   "cell_type": "code",
   "execution_count": 34,
   "id": "c4512f69-4d0d-43a5-98cc-655fcdd356f0",
   "metadata": {},
   "outputs": [],
   "source": [
    "class VectorSearchEngine():\n",
    "    def __init__(self, documents: list[dict], embeddings: np.ndarray):\n",
    "        self.documents = documents\n",
    "        self.embeddings = embeddings\n",
    "\n",
    "    def search(self, v_query: np.ndarray, num_results: int = 10):\n",
    "        scores = self.embeddings.dot(v_query)\n",
    "        top_idx = np.argsort(-scores)[:num_results]\n",
    "        top_docs = [self.documents[i] for i in top_idx]\n",
    "        return top_docs"
   ]
  },
  {
   "cell_type": "code",
   "execution_count": 36,
   "id": "5234139b-c6bf-437e-9833-9830af49fad0",
   "metadata": {},
   "outputs": [
    {
     "data": {
      "text/plain": [
       "'I just discovered the course. Can I still join it?'"
      ]
     },
     "execution_count": 36,
     "metadata": {},
     "output_type": "execute_result"
    }
   ],
   "source": [
    "user_question"
   ]
  },
  {
   "cell_type": "code",
   "execution_count": 35,
   "id": "51414300-00e3-43e5-9289-d6c7fc507929",
   "metadata": {},
   "outputs": [
    {
     "data": {
      "text/plain": [
       "[{'text': 'Yes, you can. You won’t be able to submit some of the homeworks, but you can still take part in the course.\\nIn order to get a certificate, you need to submit 2 out of 3 course projects and review 3 peers’ Projects by the deadline. It means that if you join the course at the end of November and manage to work on two projects, you will still be eligible for a certificate.',\n",
       "  'section': 'General course-related questions',\n",
       "  'question': 'The course has already started. Can I still join it?',\n",
       "  'course': 'machine-learning-zoomcamp',\n",
       "  'id': 'ee58a693'},\n",
       " {'text': 'Welcome to the course! Go to the course page (http://mlzoomcamp.com/), scroll down and start going through the course materials. Then read everything in the cohort folder for your cohort’s year.\\nClick on the links and start watching the videos. Also watch office hours from previous cohorts. Go to DTC youtube channel and click on Playlists and search for {course yyyy}. ML Zoomcamp was first launched in 2021.\\nOr you can just use this link: http://mlzoomcamp.com/#syllabus',\n",
       "  'section': 'General course-related questions',\n",
       "  'question': 'I just joined. What should I do next? How can I access course materials?',\n",
       "  'course': 'machine-learning-zoomcamp',\n",
       "  'id': '0a278fb2'},\n",
       " {'text': \"The process is automated now, so you should receive the email eventually. If you haven’t, check your promotions tab in Gmail as well as spam.\\nIf you unsubscribed from our newsletter, you won't get course related updates too.\\nBut don't worry, it’s not a problem. To make sure you don’t miss anything, join the #course-ml-zoomcamp channel in Slack and our telegram channel with announcements. This is enough to follow the course.\",\n",
       "  'section': 'General course-related questions',\n",
       "  'question': \"I filled the form, but haven't received a confirmation email. Is it normal?\",\n",
       "  'course': 'machine-learning-zoomcamp',\n",
       "  'id': '6ba259b1'},\n",
       " {'text': 'Technically, yes. Advisable? Not really. Reasons:\\nSome homework(s) asks for specific python library versions.\\nAnswers may not match in MCQ options if using different languages other than Python 3.10 (the recommended version for 2023 cohort)\\nAnd as for midterms/capstones, your peer-reviewers may not know these other languages. Do you want to be penalized for others not knowing these other languages?\\nYou can create a separate repo using course’s lessons but written in other languages for your own learnings, but not advisable for submissions.\\ntx[source]',\n",
       "  'section': 'Miscellaneous',\n",
       "  'question': 'Can I do the course in other languages, like R or Scala?',\n",
       "  'course': 'machine-learning-zoomcamp',\n",
       "  'id': '9f261648'},\n",
       " {'text': 'We won’t re-record the course videos. The focus of the course and the skills we want to teach remained the same, and the videos are still up-to-date.\\nIf you haven’t taken part in the previous iteration, you can start watching the videos. It’ll be useful for you and you will learn new things. However, we recommend using Python 3.10 now instead of Python 3.8.',\n",
       "  'section': 'General course-related questions',\n",
       "  'question': 'The course videos are from the previous iteration. Will you release new ones or we’ll use the videos from 2021?',\n",
       "  'course': 'machine-learning-zoomcamp',\n",
       "  'id': 'e7ba6b8a'}]"
      ]
     },
     "execution_count": 35,
     "metadata": {},
     "output_type": "execute_result"
    }
   ],
   "source": [
    "# check vector search engine:\n",
    "search_engine = VectorSearchEngine(documents=documents_subset, embeddings=X)\n",
    "search_engine.search(v_query=generated_embedding, num_results=5)"
   ]
  },
  {
   "cell_type": "markdown",
   "id": "1191b29a-5e2c-4c31-bcab-79941d4e53a7",
   "metadata": {},
   "source": [
    "### Q4. Hit rate for our search engine"
   ]
  },
  {
   "cell_type": "code",
   "execution_count": 37,
   "id": "6fb80d95-66fa-4045-9ba5-7ca99c07a51a",
   "metadata": {},
   "outputs": [],
   "source": [
    "import pandas as pd"
   ]
  },
  {
   "cell_type": "code",
   "execution_count": 45,
   "id": "63a4caa9-ea30-4453-b46b-d752121bbb77",
   "metadata": {},
   "outputs": [],
   "source": [
    "# load ground truth dataset:\n",
    "df_ground_truth = pd.read_csv(Path(DATA_DIR, \"ground-truth-data.csv\"))\n",
    "\n",
    "# keep only #machine-learning-zoomcamp\n",
    "df_ground_truth = df_ground_truth[\n",
    "    df_ground_truth.course == \"machine-learning-zoomcamp\"\n",
    "].reset_index(drop=True).copy()\n",
    "ground_truth = df_ground_truth.to_dict(orient='records')"
   ]
  },
  {
   "cell_type": "code",
   "execution_count": 58,
   "id": "62c79516-29ca-4886-9742-6901fc45ec6f",
   "metadata": {},
   "outputs": [
    {
     "name": "stdout",
     "output_type": "stream",
     "text": [
      "# of Ground Truth documents: 1,830\n"
     ]
    },
    {
     "data": {
      "text/plain": [
       "{'question': 'Where can I sign up for the course?',\n",
       " 'course': 'machine-learning-zoomcamp',\n",
       " 'document': '0227b872'}"
      ]
     },
     "execution_count": 58,
     "metadata": {},
     "output_type": "execute_result"
    }
   ],
   "source": [
    "print(f\"# of Ground Truth documents: {len(ground_truth):,d}\")\n",
    "ground_truth[0]"
   ]
  },
  {
   "cell_type": "code",
   "execution_count": 52,
   "id": "c7619f8a-3962-4e87-bc04-ad80904800f9",
   "metadata": {},
   "outputs": [],
   "source": [
    "def hit_rate(relevance_total):\n",
    "    cnt = 0\n",
    "    \n",
    "    for line in relevance_total:\n",
    "        if True in line:\n",
    "            cnt = cnt + 1\n",
    "\n",
    "    return cnt / len(relevance_total)"
   ]
  },
  {
   "cell_type": "code",
   "execution_count": 53,
   "id": "8594946a-509d-497b-945c-c6797e596100",
   "metadata": {},
   "outputs": [],
   "source": [
    "def mrr(relevance_total):\n",
    "    total_score = 0.0\n",
    "\n",
    "    for line in relevance_total:\n",
    "        for rank in range(len(line)):\n",
    "            if line[rank] == True:\n",
    "                total_score = total_score + 1 / (rank + 1)\n",
    "\n",
    "    return total_score / len(relevance_total)"
   ]
  },
  {
   "cell_type": "code",
   "execution_count": 56,
   "id": "02c5b072-af77-4519-aa5a-b87a7485517d",
   "metadata": {},
   "outputs": [],
   "source": [
    "def evaluate(ground_truth, search_engine, num_search_results: int = 5) -> dict:\n",
    "    relevance_total = []\n",
    "\n",
    "    for q in tqdm(ground_truth):\n",
    "        doc_id_i, question_i = q[\"document\"], q[\"question\"]\n",
    "        embed_i = embedding_model.encode(question_i)\n",
    "        results_i = search_engine.search(embed_i, num_results=num_search_results)\n",
    "        relevance_i = [d['id'] == doc_id_i for d in results_i]\n",
    "        relevance_total.append(relevance_i)\n",
    "\n",
    "    return {\n",
    "        \"hit_rate\": hit_rate(relevance_total),\n",
    "        \"merr\": mrr(relevance_total),\n",
    "    }"
   ]
  },
  {
   "cell_type": "code",
   "execution_count": 57,
   "id": "a85e6712-44a9-4a19-972f-16321d1aa510",
   "metadata": {},
   "outputs": [
    {
     "name": "stderr",
     "output_type": "stream",
     "text": [
      "100%|██████████████████████████████████████████████████████████████████████████████████████████████████████████████████████████████████████████████████████████████████████████████████████████████████████████████████████████████████████████████████████████████████████████████████████████████████████████████████████████████████| 1830/1830 [04:05<00:00,  7.45it/s]\n"
     ]
    },
    {
     "data": {
      "text/plain": [
       "{'hit_rate': 0.9398907103825137, 'merr': 0.8516484517304189}"
      ]
     },
     "execution_count": 57,
     "metadata": {},
     "output_type": "execute_result"
    }
   ],
   "source": [
    "evaluate(ground_truth, search_engine)"
   ]
  },
  {
   "cell_type": "markdown",
   "id": "88babcc5-957b-4b24-a37f-fc2dcb6ea00c",
   "metadata": {},
   "source": [
    "### Q5. Indexing with ElasticSearch"
   ]
  },
  {
   "cell_type": "code",
   "execution_count": 77,
   "id": "fedeb551-4a89-4c19-a154-5dea94f232df",
   "metadata": {},
   "outputs": [],
   "source": [
    "from elasticsearch import Elasticsearch\n",
    "\n",
    "\n",
    "ES_CLIENT_HOST = \"http://localhost:9200\""
   ]
  },
  {
   "cell_type": "code",
   "execution_count": 78,
   "id": "163247d5-fe48-4402-82f3-eda281b8f381",
   "metadata": {},
   "outputs": [
    {
     "name": "stdout",
     "output_type": "stream",
     "text": [
      "{\n",
      "  \"name\" : \"7087af81676a\",\n",
      "  \"cluster_name\" : \"docker-cluster\",\n",
      "  \"cluster_uuid\" : \"lUhtIKk4QI-D3H3WM0we7w\",\n",
      "  \"version\" : {\n",
      "    \"number\" : \"8.4.3\",\n",
      "    \"build_flavor\" : \"default\",\n",
      "    \"build_type\" : \"docker\",\n",
      "    \"build_hash\" : \"42f05b9372a9a4a470db3b52817899b99a76ee73\",\n",
      "    \"build_date\" : \"2022-10-04T07:17:24.662462378Z\",\n",
      "    \"build_snapshot\" : false,\n",
      "    \"lucene_version\" : \"9.3.0\",\n",
      "    \"minimum_wire_compatibility_version\" : \"7.17.0\",\n",
      "    \"minimum_index_compatibility_version\" : \"7.0.0\"\n",
      "  },\n",
      "  \"tagline\" : \"You Know, for Search\"\n",
      "}\n"
     ]
    },
    {
     "name": "stderr",
     "output_type": "stream",
     "text": [
      "huggingface/tokenizers: The current process just got forked, after parallelism has already been used. Disabling parallelism to avoid deadlocks...\n",
      "To disable this warning, you can either:\n",
      "\t- Avoid using `tokenizers` before the fork if possible\n",
      "\t- Explicitly set the environment variable TOKENIZERS_PARALLELISM=(true | false)\n"
     ]
    }
   ],
   "source": [
    "!curl {ES_CLIENT_HOST}"
   ]
  },
  {
   "cell_type": "code",
   "execution_count": 81,
   "id": "d45045be-c9ea-4761-8ee5-bf3c5724e372",
   "metadata": {},
   "outputs": [],
   "source": [
    "es_client = Elasticsearch(ES_CLIENT_HOST)"
   ]
  },
  {
   "cell_type": "code",
   "execution_count": 119,
   "id": "47b1cf74-a747-4ab8-a845-329ac1906f1f",
   "metadata": {},
   "outputs": [
    {
     "data": {
      "text/plain": [
       "ObjectApiResponse({'acknowledged': True, 'shards_acknowledged': True, 'index': 'course-questions'})"
      ]
     },
     "execution_count": 119,
     "metadata": {},
     "output_type": "execute_result"
    }
   ],
   "source": [
    "# config ES:\n",
    "EMBEDDING_DIM = X.shape[1]\n",
    "\n",
    "index_settings = {\n",
    "    \"settings\": {\n",
    "        \"number_of_shards\": 1,\n",
    "        \"number_of_replicas\": 0\n",
    "    },\n",
    "    \"mappings\": {\n",
    "        \"properties\": {\n",
    "            \"text\": {\"type\": \"text\"},\n",
    "            \"section\": {\"type\": \"text\"},\n",
    "            \"question\": {\"type\": \"text\"},\n",
    "            \"course\": {\"type\": \"keyword\"},\n",
    "            \"id\": {\"type\": \"keyword\"},\n",
    "            \"question_text_vector\": {\n",
    "                \"type\": \"dense_vector\",\n",
    "                \"dims\": EMBEDDING_DIM,\n",
    "                \"index\": True,\n",
    "                \"similarity\": \"cosine\"\n",
    "            },\n",
    "        }\n",
    "    }\n",
    "}\n",
    "\n",
    "index_name = \"course-questions\"\n",
    "\n",
    "# Create or Replace index:\n",
    "if es_client.indices.exists(index=index_name):\n",
    "    es_client.indices.delete(index=index_name)\n",
    "\n",
    "es_client.indices.create(index=index_name, body=index_settings)"
   ]
  },
  {
   "cell_type": "code",
   "execution_count": 121,
   "id": "40db221f-facd-4dad-88ff-decfbb812ee5",
   "metadata": {},
   "outputs": [
    {
     "name": "stderr",
     "output_type": "stream",
     "text": [
      "375it [00:01, 222.44it/s]\n"
     ]
    }
   ],
   "source": [
    "# Index docs with embeddings in ElasticSearch:\n",
    "assert X.shape[0] == len(documents_subset), \"Wrong number of Documents / Embeddings\"\n",
    "\n",
    "for doc_i, embed_i in tqdm(zip(documents_subset, X)):\n",
    "    doc_i[\"question_text_vector\"] = embed_i\n",
    "    es_client.index(index=index_name, document=doc_i)"
   ]
  },
  {
   "cell_type": "code",
   "execution_count": 122,
   "id": "105e5969-b17b-4ed8-9936-4c728ee75c9e",
   "metadata": {},
   "outputs": [],
   "source": [
    "def elastic_search_knn(\n",
    "    vector: np.ndarray,\n",
    "    field: str = \"question_text_vector\",\n",
    "    course: str = \"machine-learning-zoomcamp\",\n",
    "    num_search_results: int = 5\n",
    "):\n",
    "    knn = {\n",
    "        \"field\": field,\n",
    "        \"query_vector\": vector,\n",
    "        \"k\": num_search_results,\n",
    "        \"num_candidates\": 10000,\n",
    "        \"filter\": {\n",
    "            \"term\": {\n",
    "                \"course\": course\n",
    "            }\n",
    "        }\n",
    "    }\n",
    "\n",
    "    search_query = {\n",
    "        \"knn\": knn,\n",
    "        \"_source\": [\"text\", \"section\", \"question\", \"course\", \"id\"]\n",
    "    }\n",
    "\n",
    "    es_results = es_client.search(\n",
    "        index=index_name,\n",
    "        body=search_query\n",
    "    )\n",
    "    \n",
    "    result_docs = []\n",
    "    \n",
    "    for hit in es_results['hits']['hits']:\n",
    "        result_docs.append(hit['_source'])\n",
    "\n",
    "    return result_docs"
   ]
  },
  {
   "cell_type": "code",
   "execution_count": 123,
   "id": "69f50b63-e77a-45cb-9795-4a7c321ab705",
   "metadata": {},
   "outputs": [
    {
     "data": {
      "text/plain": [
       "'I just discovered the course. Can I still join it?'"
      ]
     },
     "execution_count": 123,
     "metadata": {},
     "output_type": "execute_result"
    }
   ],
   "source": [
    "user_question"
   ]
  },
  {
   "cell_type": "code",
   "execution_count": 124,
   "id": "5450272f-8c15-4531-9aa6-1595e5e03ba5",
   "metadata": {},
   "outputs": [
    {
     "data": {
      "text/plain": [
       "{'question': 'The course has already started. Can I still join it?',\n",
       " 'course': 'machine-learning-zoomcamp',\n",
       " 'section': 'General course-related questions',\n",
       " 'text': 'Yes, you can. You won’t be able to submit some of the homeworks, but you can still take part in the course.\\nIn order to get a certificate, you need to submit 2 out of 3 course projects and review 3 peers’ Projects by the deadline. It means that if you join the course at the end of November and manage to work on two projects, you will still be eligible for a certificate.',\n",
       " 'id': 'ee58a693'}"
      ]
     },
     "execution_count": 124,
     "metadata": {},
     "output_type": "execute_result"
    }
   ],
   "source": [
    "es_search_result = elastic_search_knn(vector=generated_embedding)\n",
    "# most popular doc:\n",
    "es_search_result[0]"
   ]
  },
  {
   "cell_type": "markdown",
   "id": "794b9a78-3347-40f9-930c-f2e7f3e631c6",
   "metadata": {},
   "source": [
    "### Q6. Hit-Rate with ElasticSearch"
   ]
  },
  {
   "cell_type": "code",
   "execution_count": 127,
   "id": "369f5755-a73f-4d77-8695-38cd3613ca2c",
   "metadata": {},
   "outputs": [],
   "source": [
    "def evaluate(ground_truth, search_engine, num_search_results: int = 5) -> dict:\n",
    "    relevance_total = []\n",
    "\n",
    "    for q in tqdm(ground_truth):\n",
    "        doc_id_i, question_i = q[\"document\"], q[\"question\"]\n",
    "        embed_i = embedding_model.encode(question_i)\n",
    "        \n",
    "        results_i = search_engine(embed_i, num_search_results=num_search_results)\n",
    "        relevance_i = [d[\"id\"] == doc_id_i for d in results_i]\n",
    "        relevance_total.append(relevance_i)\n",
    "\n",
    "    return {\n",
    "        \"hit_rate\": hit_rate(relevance_total),\n",
    "        \"merr\": mrr(relevance_total),\n",
    "    }"
   ]
  },
  {
   "cell_type": "code",
   "execution_count": 128,
   "id": "ed9de4fa-bc97-435e-bfda-444c3b679893",
   "metadata": {},
   "outputs": [
    {
     "name": "stderr",
     "output_type": "stream",
     "text": [
      "100%|██████████████████████████████████████████████████████████████████████████████████████████████████████████████████████████████████████████████████████████████████████████████████████████████████████████████████████████████████████████████████████████████████████████████████████████████████████████████████████████████████| 1830/1830 [00:58<00:00, 31.38it/s]\n"
     ]
    },
    {
     "data": {
      "text/plain": [
       "{'hit_rate': 0.9398907103825137, 'merr': 0.8516484517304189}"
      ]
     },
     "execution_count": 128,
     "metadata": {},
     "output_type": "execute_result"
    }
   ],
   "source": [
    "# Hit Rate with Elastic Search (field: `question_text_vector`)\n",
    "evaluate(ground_truth, elastic_search_knn)"
   ]
  },
  {
   "cell_type": "markdown",
   "id": "66f19968-b96d-4574-94a8-137b2e4ad488",
   "metadata": {},
   "source": [
    "<hr>"
   ]
  }
 ],
 "metadata": {
  "kernelspec": {
   "display_name": "Python 3 (ipykernel)",
   "language": "python",
   "name": "python3"
  },
  "language_info": {
   "codemirror_mode": {
    "name": "ipython",
    "version": 3
   },
   "file_extension": ".py",
   "mimetype": "text/x-python",
   "name": "python",
   "nbconvert_exporter": "python",
   "pygments_lexer": "ipython3",
   "version": "3.11.9"
  }
 },
 "nbformat": 4,
 "nbformat_minor": 5
}
