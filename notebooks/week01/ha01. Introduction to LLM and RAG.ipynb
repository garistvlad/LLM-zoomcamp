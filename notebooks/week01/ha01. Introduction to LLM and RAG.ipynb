{
 "cells": [
  {
   "cell_type": "markdown",
   "id": "901cfdd1-2210-4bec-be01-b0760b868335",
   "metadata": {},
   "source": [
    "# Home Assignment 01. OpenAI, ElasticSearch, RAG"
   ]
  },
  {
   "cell_type": "markdown",
   "id": "c3c6d488-0172-41dd-91e6-728e0f6590e1",
   "metadata": {},
   "source": [
    "### Q1. running Elastic\n",
    "\n",
    "**Answer**: `42f05b9372a9a4a470db3b52817899b99a76ee73`"
   ]
  },
  {
   "cell_type": "code",
   "execution_count": 2,
   "id": "5d11a9c0-4170-4c12-86d7-c522221d5488",
   "metadata": {},
   "outputs": [
    {
     "name": "stdout",
     "output_type": "stream",
     "text": [
      "{\n",
      "  \"name\" : \"33e592aa075a\",\n",
      "  \"cluster_name\" : \"docker-cluster\",\n",
      "  \"cluster_uuid\" : \"fUjwSc3BT9KhhbpJky3U9w\",\n",
      "  \"version\" : {\n",
      "    \"number\" : \"8.4.3\",\n",
      "    \"build_flavor\" : \"default\",\n",
      "    \"build_type\" : \"docker\",\n",
      "    \"build_hash\" : \"42f05b9372a9a4a470db3b52817899b99a76ee73\",\n",
      "    \"build_date\" : \"2022-10-04T07:17:24.662462378Z\",\n",
      "    \"build_snapshot\" : false,\n",
      "    \"lucene_version\" : \"9.3.0\",\n",
      "    \"minimum_wire_compatibility_version\" : \"7.17.0\",\n",
      "    \"minimum_index_compatibility_version\" : \"7.0.0\"\n",
      "  },\n",
      "  \"tagline\" : \"You Know, for Search\"\n",
      "}\n"
     ]
    }
   ],
   "source": [
    "!curl elasticsearch:9200"
   ]
  },
  {
   "cell_type": "code",
   "execution_count": 7,
   "id": "d7c056e6-3977-4587-ad7c-69e5e9f409bb",
   "metadata": {},
   "outputs": [],
   "source": [
    "import json\n",
    "from pathlib import Path\n",
    "import sys\n",
    "\n",
    "PROJECT_DIR = Path(\".\").absolute().parent.parent\n",
    "sys.path.append(str(PROJECT_DIR))"
   ]
  },
  {
   "cell_type": "markdown",
   "id": "e913745a-8ec6-41a6-977d-8e18f36e3534",
   "metadata": {},
   "source": [
    "#### Getting the Data"
   ]
  },
  {
   "cell_type": "code",
   "execution_count": 8,
   "id": "b10c27ba-ea91-4c76-bc09-b50910e491b9",
   "metadata": {},
   "outputs": [],
   "source": [
    "DATA_DIR = Path(PROJECT_DIR, \"data\")\n",
    "assert DATA_DIR.exists()\n",
    "\n",
    "# read all documentds:\n",
    "with open(Path(DATA_DIR, \"documents.json\"), \"rt\") as f_in:\n",
    "    docs_raw = json.load(f_in)\n",
    "\n",
    "# collect all documents from all the courses\n",
    "documents = []\n",
    "for course_dict in docs_raw:\n",
    "    course_name = course_dict[\"course\"]\n",
    "    for doc in course_dict[\"documents\"]:\n",
    "        doc[\"course\"] = course_name\n",
    "        documents.append(doc)"
   ]
  },
  {
   "cell_type": "markdown",
   "id": "452f9570-015b-4d82-92b4-18efda2d39f8",
   "metadata": {},
   "source": [
    "### Q2. Indexing the Data\n",
    "\n",
    "**Answer**: `index`"
   ]
  },
  {
   "cell_type": "code",
   "execution_count": 11,
   "id": "e12ab8bb-561a-401c-8557-69b556bf33bd",
   "metadata": {},
   "outputs": [],
   "source": [
    "from elasticsearch import Elasticsearch\n",
    "from tqdm import tqdm"
   ]
  },
  {
   "cell_type": "code",
   "execution_count": 10,
   "id": "fab7dad7-c012-4a20-afb8-ea051e7cb492",
   "metadata": {},
   "outputs": [],
   "source": [
    "es_client = Elasticsearch(\"http://elasticsearch:9200\")"
   ]
  },
  {
   "cell_type": "code",
   "execution_count": 12,
   "id": "d5627639-2a87-4179-b8a1-48ad964295bf",
   "metadata": {},
   "outputs": [
    {
     "data": {
      "text/plain": [
       "ObjectApiResponse({'acknowledged': True, 'shards_acknowledged': True, 'index': 'course-descripiton'})"
      ]
     },
     "execution_count": 12,
     "metadata": {},
     "output_type": "execute_result"
    }
   ],
   "source": [
    "# Elastic config definition\n",
    "index_settings = {\n",
    "    \"settings\": {\n",
    "        \"number_of_shards\": 1,\n",
    "        \"number_of_replicas\": 0,\n",
    "    },\n",
    "    \"mappings\": {\n",
    "        \"properties\": {\n",
    "            \"text\": {\"type\": \"text\"},\n",
    "            \"section\": {\"type\": \"text\"},\n",
    "            \"question\": {\"type\": \"text\"},\n",
    "            \"course\": {\"type\": \"keyword\"},\n",
    "        }\n",
    "    },\n",
    "}\n",
    "\n",
    "index_name = \"course-descripiton\"\n",
    "\n",
    "# create index\n",
    "es_client.indices.create(\n",
    "    index=index_name,\n",
    "    body=index_settings\n",
    ")"
   ]
  },
  {
   "cell_type": "code",
   "execution_count": 13,
   "id": "d4dc456c-3f5f-403a-8c1a-128dbe32c500",
   "metadata": {},
   "outputs": [
    {
     "name": "stderr",
     "output_type": "stream",
     "text": [
      "100%|██████████| 948/948 [00:01<00:00, 508.20it/s]\n"
     ]
    }
   ],
   "source": [
    "# Add document to index one by one:\n",
    "for doc in tqdm(documents):\n",
    "    es_client.index(index=index_name, document=doc)"
   ]
  },
  {
   "cell_type": "markdown",
   "id": "b5b1ebaa-dfad-446e-99c8-05d05c458060",
   "metadata": {},
   "source": [
    "### Q3: Searching\n",
    "\n",
    "**Answer**: `84.050095`"
   ]
  },
  {
   "cell_type": "code",
   "execution_count": 18,
   "id": "01d7412a-1bf7-4aa4-81b6-138623c854fb",
   "metadata": {},
   "outputs": [
    {
     "data": {
      "text/plain": [
       "{'total': {'value': 865, 'relation': 'eq'},\n",
       " 'max_score': 84.050095,\n",
       " 'hits': [{'_index': 'course-descripiton',\n",
       "   '_id': 'HFP2PpAB-gLAdVk5eC-t',\n",
       "   '_score': 84.050095,\n",
       "   '_source': {'text': 'Launch the container image in interactive mode and overriding the entrypoint, so that it starts a bash command.\\ndocker run -it --entrypoint bash <image>\\nIf the container is already running, execute a command in the specific container:\\ndocker ps (find the container-id)\\ndocker exec -it <container-id> bash\\n(Marcos MJD)',\n",
       "    'section': '5. Deploying Machine Learning Models',\n",
       "    'question': 'How do I debug a docker container?',\n",
       "    'course': 'machine-learning-zoomcamp'}}]}"
      ]
     },
     "execution_count": 18,
     "metadata": {},
     "output_type": "execute_result"
    }
   ],
   "source": [
    "query = \"How do I execute a command in a running docker container?\"\n",
    "\n",
    "search_query = {\n",
    "    \"size\": 1,\n",
    "    \"query\": {\n",
    "        \"bool\": {\n",
    "            \"must\": {\n",
    "                \"multi_match\": {\n",
    "                    \"query\": query,\n",
    "                    # \"fields\": [\"question^4\", \"text\", \"section\"],\n",
    "                    \"fields\": [\"question^4\", \"text\"],\n",
    "                    \"type\": \"best_fields\",\n",
    "                }\n",
    "            },\n",
    "            # \"filter\": {\n",
    "            #     \"term\": {\n",
    "            #         \"course\": \"data-engineering-zoomcamp\"\n",
    "            #     }\n",
    "            # },\n",
    "        }\n",
    "    }\n",
    "}\n",
    "\n",
    "response = es_client.search(index=index_name, body=search_query)\n",
    "response[\"hits\"]"
   ]
  },
  {
   "cell_type": "markdown",
   "id": "1ee9b696-5b40-47a1-8297-2ef831b0156e",
   "metadata": {},
   "source": [
    "### Q4: Filtering\n",
    "\n",
    "**Answer**: `'How do I copy files from a different folder into docker container’s working directory?'`"
   ]
  },
  {
   "cell_type": "code",
   "execution_count": 19,
   "id": "9b659a19-eb61-444f-aa65-58c4f13fc7da",
   "metadata": {},
   "outputs": [
    {
     "data": {
      "text/plain": [
       "{'total': {'value': 345, 'relation': 'eq'},\n",
       " 'max_score': 84.050095,\n",
       " 'hits': [{'_index': 'course-descripiton',\n",
       "   '_id': 'HFP2PpAB-gLAdVk5eC-t',\n",
       "   '_score': 84.050095,\n",
       "   '_source': {'text': 'Launch the container image in interactive mode and overriding the entrypoint, so that it starts a bash command.\\ndocker run -it --entrypoint bash <image>\\nIf the container is already running, execute a command in the specific container:\\ndocker ps (find the container-id)\\ndocker exec -it <container-id> bash\\n(Marcos MJD)',\n",
       "    'section': '5. Deploying Machine Learning Models',\n",
       "    'question': 'How do I debug a docker container?',\n",
       "    'course': 'machine-learning-zoomcamp'}},\n",
       "  {'_index': 'course-descripiton',\n",
       "   '_id': 'O1P2PpAB-gLAdVk5eC_g',\n",
       "   '_score': 51.04628,\n",
       "   '_source': {'text': \"You can copy files from your local machine into a Docker container using the docker cp command. Here's how to do it:\\nTo copy a file or directory from your local machine into a running Docker container, you can use the `docker cp command`. The basic syntax is as follows:\\ndocker cp /path/to/local/file_or_directory container_id:/path/in/container\\nHrithik Kumar Advani\",\n",
       "    'section': '5. Deploying Machine Learning Models',\n",
       "    'question': 'How do I copy files from my local machine to docker container?',\n",
       "    'course': 'machine-learning-zoomcamp'}},\n",
       "  {'_index': 'course-descripiton',\n",
       "   '_id': 'PFP2PpAB-gLAdVk5eC_i',\n",
       "   '_score': 49.938507,\n",
       "   '_source': {'text': 'You can copy files from your local machine into a Docker container using the docker cp command. Here\\'s how to do it:\\nIn the Dockerfile, you can provide the folder containing the files that you want to copy over. The basic syntax is as follows:\\nCOPY [\"src/predict.py\", \"models/xgb_model.bin\", \"./\"]\\t\\t\\t\\t\\t\\t\\t\\t\\t\\t\\tGopakumar Gopinathan',\n",
       "    'section': '5. Deploying Machine Learning Models',\n",
       "    'question': 'How do I copy files from a different folder into docker container’s working directory?',\n",
       "    'course': 'machine-learning-zoomcamp'}}]}"
      ]
     },
     "execution_count": 19,
     "metadata": {},
     "output_type": "execute_result"
    }
   ],
   "source": [
    "query = \"How do I execute a command in a running docker container?\"\n",
    "\n",
    "search_query = {\n",
    "    \"size\": 3,\n",
    "    \"query\": {\n",
    "        \"bool\": {\n",
    "            \"must\": {\n",
    "                \"multi_match\": {\n",
    "                    \"query\": query,\n",
    "                    # \"fields\": [\"question^4\", \"text\", \"section\"],\n",
    "                    \"fields\": [\"question^4\", \"text\"],\n",
    "                    \"type\": \"best_fields\",\n",
    "                }\n",
    "            },\n",
    "            \"filter\": {\n",
    "                \"term\": {\n",
    "                    \"course\": \"machine-learning-zoomcamp\"\n",
    "                }\n",
    "            },\n",
    "        }\n",
    "    }\n",
    "}\n",
    "\n",
    "response = es_client.search(index=index_name, body=search_query)\n",
    "response[\"hits\"]"
   ]
  },
  {
   "cell_type": "markdown",
   "id": "5d0b7862-acd8-4298-8c19-ac040c44e4d3",
   "metadata": {},
   "source": [
    "### Q5: Building a prompt\n",
    "\n",
    "**Answer**: `1462`"
   ]
  },
  {
   "cell_type": "code",
   "execution_count": 25,
   "id": "cf668447-7190-4703-b643-fe5306abcfea",
   "metadata": {},
   "outputs": [],
   "source": [
    "context_template = \"\"\"\n",
    "Q: {question}\n",
    "A: {text}\n",
    "\"\"\".strip()"
   ]
  },
  {
   "cell_type": "code",
   "execution_count": 27,
   "id": "e43f6051-2921-4bf4-85cf-cdc55f61ba96",
   "metadata": {},
   "outputs": [],
   "source": [
    "prompt_template = \"\"\"\n",
    "You're a course teaching assistant. Answer the QUESTION based on the CONTEXT from the FAQ database.\n",
    "Use only the facts from the CONTEXT when answering the QUESTION.\n",
    "\n",
    "QUESTION: {question}\n",
    "\n",
    "CONTEXT:\n",
    "{context}\n",
    "\"\"\".strip()"
   ]
  },
  {
   "cell_type": "code",
   "execution_count": 26,
   "id": "0254fcc7-6b68-4edc-a145-e430e72997ae",
   "metadata": {},
   "outputs": [],
   "source": [
    "context_qna = []\n",
    "for hit in response[\"hits\"][\"hits\"]:\n",
    "    source_doc = hit[\"_source\"]\n",
    "    context_i = context_template.format(\n",
    "        question=source_doc[\"question\"],\n",
    "        text=source_doc[\"text\"],\n",
    "    )\n",
    "    context_qna.append(context_i)"
   ]
  },
  {
   "cell_type": "code",
   "execution_count": 28,
   "id": "21dc708e-b5be-4ac8-b1de-3f04f9cb213e",
   "metadata": {},
   "outputs": [
    {
     "data": {
      "text/plain": [
       "1462"
      ]
     },
     "execution_count": 28,
     "metadata": {},
     "output_type": "execute_result"
    }
   ],
   "source": [
    "context = \"\\n\\n\".join(context_qna)\n",
    "\n",
    "question = \"How do I execute a command in a running docker container?\"\n",
    "prompt = prompt_template.format(question=question, context=context)\n",
    "len(prompt)"
   ]
  },
  {
   "cell_type": "markdown",
   "id": "f235ac0c-3bb2-4ace-b2a3-4e59b72517be",
   "metadata": {},
   "source": [
    "### Q6: Tokens\n",
    "\n",
    "**Answer**: `322`"
   ]
  },
  {
   "cell_type": "code",
   "execution_count": 29,
   "id": "d4a0e3b2-9530-4e09-a615-f2af1a01bbaa",
   "metadata": {},
   "outputs": [],
   "source": [
    "import tiktoken"
   ]
  },
  {
   "cell_type": "code",
   "execution_count": 31,
   "id": "a9e0be98-a523-494f-8c1d-498ed3cc5a3f",
   "metadata": {},
   "outputs": [
    {
     "data": {
      "text/plain": [
       "322"
      ]
     },
     "execution_count": 31,
     "metadata": {},
     "output_type": "execute_result"
    }
   ],
   "source": [
    "# tiktoken - tokenization used by OpenAI\n",
    "encoding = tiktoken.encoding_for_model(model_name=\"gpt-4o\")\n",
    "\n",
    "# how many tokens does our prompt have?\n",
    "prompt_tokens = encoding.encode(prompt)\n",
    "len(prompt_tokens)"
   ]
  },
  {
   "cell_type": "code",
   "execution_count": 35,
   "id": "6b981652-50dc-475d-b07e-ee5577a018b4",
   "metadata": {},
   "outputs": [
    {
     "data": {
      "text/plain": [
       "b' QUESTION'"
      ]
     },
     "execution_count": 35,
     "metadata": {},
     "output_type": "execute_result"
    }
   ],
   "source": [
    "# to decode back a single word:\n",
    "encoding.decode_single_token_bytes(150339)"
   ]
  },
  {
   "cell_type": "markdown",
   "id": "9bfaa31a-020b-47fd-b796-6934a90efb1c",
   "metadata": {},
   "source": [
    "### Bonus: Generating the answer"
   ]
  },
  {
   "cell_type": "code",
   "execution_count": 42,
   "id": "cf1ad395-50bc-4232-b6e8-f0b821846ef3",
   "metadata": {},
   "outputs": [],
   "source": [
    "from openai import OpenAI\n",
    "\n",
    "from project.settings.openai import openai_settings"
   ]
  },
  {
   "cell_type": "code",
   "execution_count": 43,
   "id": "14d9022a-0154-4d73-8df2-4e305584c370",
   "metadata": {},
   "outputs": [],
   "source": [
    "# create OpenAI client:\n",
    "openai_client = OpenAI(api_key=openai_settings.api_key.get_secret_value())"
   ]
  },
  {
   "cell_type": "code",
   "execution_count": 48,
   "id": "3a64f2f6-244c-4aaa-b1f4-36546a0a3154",
   "metadata": {},
   "outputs": [],
   "source": [
    "def elastic_search(\n",
    "    query: str,\n",
    "    size: int = 5,\n",
    "    question_weight: int = 3,\n",
    "    course: str = \"machine-learning-zoomcamp\"\n",
    ") -> list[dict]:\n",
    "    \n",
    "    # setup elastic request\n",
    "    search_query = {\n",
    "        \"size\": size,\n",
    "        \"query\": {\n",
    "            \"bool\": {\n",
    "                \"must\": {\n",
    "                    \"multi_match\": {\n",
    "                        \"query\": query,\n",
    "                        # \"fields\": [f\"question^{question_weight}\", \"text\", \"section\"],\n",
    "                        \"fields\": [f\"question^{question_weight}\", \"text\"],\n",
    "                        \"type\": \"best_fields\",\n",
    "                    }\n",
    "                },\n",
    "                \"filter\": {\n",
    "                    \"term\": {\n",
    "                        \"course\": f\"{course}\"\n",
    "                    }\n",
    "                },\n",
    "            }\n",
    "        }\n",
    "    }\n",
    "    \n",
    "    # search in elastic\n",
    "    response = es_client.search(index=index_name, body=search_query)\n",
    "    \n",
    "    # save initial documents found as doc list:\n",
    "    result_docs = []\n",
    "    for hit in response[\"hits\"][\"hits\"]:\n",
    "        result_docs.append(hit[\"_source\"])\n",
    "\n",
    "    return result_docs"
   ]
  },
  {
   "cell_type": "code",
   "execution_count": 49,
   "id": "e10fba68-a63e-4a87-8207-a3a726b81007",
   "metadata": {},
   "outputs": [],
   "source": [
    "context_template = \"\"\"\n",
    "Q: {question}\n",
    "A: {text}\n",
    "\"\"\".strip()\n",
    "\n",
    "prompt_template = \"\"\"\n",
    "You're a course teaching assistant. Answer the QUESTION based on the CONTEXT from the FAQ database.\n",
    "Use only the facts from the CONTEXT when answering the QUESTION.\n",
    "\n",
    "QUESTION: {question}\n",
    "\n",
    "CONTEXT:\n",
    "{context}\n",
    "\"\"\".strip()\n",
    "\n",
    "\n",
    "def build_prompt(query: str, search_results: [dict]) -> str:\n",
    "    context_qna = []\n",
    "    for source_doc in search_results:\n",
    "        context_i = context_template.format(\n",
    "            question=source_doc[\"question\"],\n",
    "            text=source_doc[\"text\"],\n",
    "        )\n",
    "        context_qna.append(context_i)\n",
    "\n",
    "    context = \"\\n\\n\".join(context_qna)\n",
    "    prompt = prompt_template.format(question=query, context=context).strip()\n",
    "    return prompt"
   ]
  },
  {
   "cell_type": "code",
   "execution_count": 50,
   "id": "101206a1-407d-42be-b8d5-77ef6775f576",
   "metadata": {},
   "outputs": [],
   "source": [
    "def llm(prompt: str) -> str:\n",
    "    \"\"\"Request to ChatGPT API to make a query\"\"\"\n",
    "    response = openai_client.chat.completions.create(\n",
    "        model=\"gpt-4o\",\n",
    "        messages=[\n",
    "            {\n",
    "                \"role\": \"user\",\n",
    "                \"content\": prompt\n",
    "            }\n",
    "        ],\n",
    "    )\n",
    "    return response.choices[0].message.content"
   ]
  },
  {
   "cell_type": "code",
   "execution_count": 51,
   "id": "9ef7af85-67e8-4bcb-a69a-dba85bb74983",
   "metadata": {},
   "outputs": [],
   "source": [
    "def rag(query: str) -> str:\n",
    "    # 1. search in elastic\n",
    "    faq_results = elastic_search(query, question_weight=4, size=3)\n",
    "    # 2. build a prompt\n",
    "    prompt = build_prompt(query, search_results=faq_results)\n",
    "    # 3. ask OpenAI\n",
    "    answer = llm(prompt)\n",
    "    return answer"
   ]
  },
  {
   "cell_type": "code",
   "execution_count": 53,
   "id": "e79c5364-10a9-4912-be91-67ff5a8ccbb9",
   "metadata": {},
   "outputs": [],
   "source": [
    "query = \"How do I execute a command in a running docker container?\"\n",
    "answer = rag(query=query)"
   ]
  },
  {
   "cell_type": "code",
   "execution_count": 57,
   "id": "153c39ec-eb76-447a-97c0-c7882bd10ded",
   "metadata": {},
   "outputs": [
    {
     "data": {
      "text/plain": [
       "134"
      ]
     },
     "execution_count": 57,
     "metadata": {},
     "output_type": "execute_result"
    }
   ],
   "source": [
    "# answer n tokens:\n",
    "len(encoding.encode(answer))"
   ]
  },
  {
   "cell_type": "code",
   "execution_count": 54,
   "id": "84e9b4e5-f1bb-4610-b09f-cd77464df6dd",
   "metadata": {},
   "outputs": [
    {
     "name": "stdout",
     "output_type": "stream",
     "text": [
      "To execute a command in a running docker container, you can use the `docker exec` command. First, identify the container's ID by using the `docker ps` command, then execute the desired command within that container using the `docker exec` command. Here are the steps:\n",
      "\n",
      "1. List all running containers to find the container ID:\n",
      "   ```sh\n",
      "   docker ps\n",
      "   ```\n",
      "\n",
      "2. Execute a command inside the running container (for example, starting a bash shell):\n",
      "   ```sh\n",
      "   docker exec -it <container-id> bash\n",
      "   ```\n",
      "\n",
      "Replace `<container-id>` with the actual ID of the container you want to interact with.\n"
     ]
    }
   ],
   "source": [
    "print(answer)"
   ]
  },
  {
   "cell_type": "markdown",
   "id": "d11da0b5-1e8d-44ae-aa98-309e60e3f03b",
   "metadata": {},
   "source": [
    "### Bonus: calculating the costs"
   ]
  },
  {
   "cell_type": "code",
   "execution_count": 64,
   "id": "b827ba82-34f5-4d4a-a5bc-5a1125a7aa37",
   "metadata": {},
   "outputs": [
    {
     "name": "stdout",
     "output_type": "stream",
     "text": [
      "Total costs: $4.50\n"
     ]
    }
   ],
   "source": [
    "average_question_tokens = 150\n",
    "average_answer_tokens = 250\n",
    "n_requests = 1_000\n",
    "\n",
    "# prices gpt-4o, gpt 3.5 is x10 cheaper\n",
    "# Details: https://openai.com/api/pricing/\n",
    "\n",
    "# Input: US$5.00 / 1M tokens\n",
    "price_per_question_token = 5 / 1e6\n",
    "# Output: US$15.00 / 1M tokens\n",
    "price_per_answer_token = 15 / 1e6\n",
    "\n",
    "total_cost = n_requests * (\n",
    "    average_question_tokens * price_per_question_token\n",
    "    + average_answer_tokens * price_per_answer_token\n",
    ")\n",
    "print(f\"Total costs: ${total_cost:.2f}\")"
   ]
  }
 ],
 "metadata": {
  "kernelspec": {
   "display_name": "Python 3 (ipykernel)",
   "language": "python",
   "name": "python3"
  },
  "language_info": {
   "codemirror_mode": {
    "name": "ipython",
    "version": 3
   },
   "file_extension": ".py",
   "mimetype": "text/x-python",
   "name": "python",
   "nbconvert_exporter": "python",
   "pygments_lexer": "ipython3",
   "version": "3.11.9"
  }
 },
 "nbformat": 4,
 "nbformat_minor": 5
}
