{
 "cells": [
  {
   "cell_type": "markdown",
   "id": "760fa359-763a-40a6-a6cf-e942c8c78835",
   "metadata": {},
   "source": [
    "# Week 01. Environment setup"
   ]
  },
  {
   "cell_type": "code",
   "execution_count": 36,
   "id": "dc0a6a00-2914-426e-b67c-c354877b876e",
   "metadata": {},
   "outputs": [],
   "source": [
    "import json\n",
    "from pathlib import Path\n",
    "import sys\n",
    "\n",
    "PROJECT_DIR = Path(\".\").absolute().parent.parent\n",
    "sys.path.append(str(PROJECT_DIR))\n",
    "\n",
    "from openai import OpenAI\n",
    "import pandas as pd\n",
    "from tqdm import tqdm\n",
    "\n",
    "from project.settings.openai import openai_settings\n",
    "from project.src.external.minsearch import minsearch  # minsearch.Index"
   ]
  },
  {
   "cell_type": "markdown",
   "id": "7bb68661-5306-4c04-8ec9-f188888fdf15",
   "metadata": {},
   "source": [
    "## OpenAI example"
   ]
  },
  {
   "cell_type": "code",
   "execution_count": 2,
   "id": "7f0d83fe-499e-44b6-b431-50dce99c61e9",
   "metadata": {},
   "outputs": [],
   "source": [
    "# create OpenAI client:\n",
    "openai_client = OpenAI(api_key=openai_settings.api_key.get_secret_value())"
   ]
  },
  {
   "cell_type": "code",
   "execution_count": 4,
   "id": "f498a964-cb38-4d3a-a31a-64a6a5cff6ff",
   "metadata": {},
   "outputs": [],
   "source": [
    "example_question = \"Is it still possible to join the course?\"\n",
    "\n",
    "response = openai_client.chat.completions.create(\n",
    "    model=\"gpt-4o\",\n",
    "    messages=[\n",
    "        {\n",
    "            \"role\": \"user\",\n",
    "            \"content\": example_question\n",
    "        }\n",
    "    ],\n",
    ")"
   ]
  },
  {
   "cell_type": "code",
   "execution_count": 6,
   "id": "2f049149-eec3-45c3-ab72-ea865424b66e",
   "metadata": {},
   "outputs": [
    {
     "name": "stdout",
     "output_type": "stream",
     "text": [
      "To determine if you can still join a course, you need to check a few specific details:\n",
      "\n",
      "1. **Course Availability and Registration Deadlines:**\n",
      "   Check the registration deadlines for the course you are interested in. Courses often have enrolment cut-offs, which can be found on the educational institution’s website or by contacting the registrar’s office.\n",
      "\n",
      "2. **Seats and Waiting Lists:**\n",
      "   Find out if there are still seats available or if the course has a waiting list. If the course is full, see if you can get on the waiting list.\n",
      "\n",
      "3. **Course Start Date:**\n",
      "   Verify the course start date. Most institutions have policies on late registration, but joining a course too late can mean missing fundamental content.\n",
      "\n",
      "4. **Instructor Permission:**\n",
      "   Sometimes, if the registration period has passed, you can seek permission directly from the course instructor. They may allow you to join their class, especially if you have a compelling reason.\n",
      "\n",
      "5. **Institution Policies:**\n",
      "   Review the institution's policies on adding or dropping classes. Some places allow changes to course enrolment within a certain period after the semester starts, often with a fee.\n",
      "\n",
      "6. **Contacting the Support/Admissions Office:**\n",
      "   Get in touch with the support services or admissions office of your institution. They can provide the most accurate and specific information regarding your situation.\n",
      "\n",
      "Would you like guidance on how to contact the institution or any other specific assistance?\n"
     ]
    }
   ],
   "source": [
    "print(response.choices[0].message.content)"
   ]
  },
  {
   "cell_type": "markdown",
   "id": "b04cb4c8-56a6-4175-ad07-37b65757bfb4",
   "metadata": {},
   "source": [
    "## Search engine"
   ]
  },
  {
   "cell_type": "code",
   "execution_count": 10,
   "id": "c97f531e-093c-4616-85e3-29dc045e1c6f",
   "metadata": {},
   "outputs": [],
   "source": [
    "DATA_DIR = Path(PROJECT_DIR, \"data\")\n",
    "assert DATA_DIR.exists()"
   ]
  },
  {
   "cell_type": "code",
   "execution_count": 11,
   "id": "8b727fcc-1df3-4c09-a6b9-0fdc07e21049",
   "metadata": {},
   "outputs": [],
   "source": [
    "# read all documentds:\n",
    "with open(Path(DATA_DIR, \"documents.json\"), \"rt\") as f_in:\n",
    "    docs_raw = json.load(f_in)"
   ]
  },
  {
   "cell_type": "code",
   "execution_count": 12,
   "id": "53663c5d-b43d-4897-8c91-96c6831b4ed4",
   "metadata": {},
   "outputs": [],
   "source": [
    "# collect all documents from all the courses\n",
    "documents = []\n",
    "for course_dict in docs_raw:\n",
    "    for doc in course_dict[\"documents\"]:\n",
    "        doc[\"course\"] = course_dict[\"course\"]\n",
    "        documents.append(doc)"
   ]
  },
  {
   "cell_type": "code",
   "execution_count": 13,
   "id": "f24f69f3-52ca-4703-8931-85ace37343db",
   "metadata": {},
   "outputs": [
    {
     "data": {
      "text/plain": [
       "course\n",
       "data-engineering-zoomcamp    435\n",
       "machine-learning-zoomcamp    375\n",
       "mlops-zoomcamp               138\n",
       "Name: count, dtype: int64"
      ]
     },
     "metadata": {},
     "output_type": "display_data"
    },
    {
     "data": {
      "text/html": [
       "<div>\n",
       "<style scoped>\n",
       "    .dataframe tbody tr th:only-of-type {\n",
       "        vertical-align: middle;\n",
       "    }\n",
       "\n",
       "    .dataframe tbody tr th {\n",
       "        vertical-align: top;\n",
       "    }\n",
       "\n",
       "    .dataframe thead th {\n",
       "        text-align: right;\n",
       "    }\n",
       "</style>\n",
       "<table border=\"1\" class=\"dataframe\">\n",
       "  <thead>\n",
       "    <tr style=\"text-align: right;\">\n",
       "      <th></th>\n",
       "      <th>text</th>\n",
       "      <th>section</th>\n",
       "      <th>question</th>\n",
       "      <th>course</th>\n",
       "    </tr>\n",
       "  </thead>\n",
       "  <tbody>\n",
       "    <tr>\n",
       "      <th>0</th>\n",
       "      <td>The purpose of this document is to capture fre...</td>\n",
       "      <td>General course-related questions</td>\n",
       "      <td>Course - When will the course start?</td>\n",
       "      <td>data-engineering-zoomcamp</td>\n",
       "    </tr>\n",
       "    <tr>\n",
       "      <th>1</th>\n",
       "      <td>GitHub - DataTalksClub data-engineering-zoomca...</td>\n",
       "      <td>General course-related questions</td>\n",
       "      <td>Course - What are the prerequisites for this c...</td>\n",
       "      <td>data-engineering-zoomcamp</td>\n",
       "    </tr>\n",
       "    <tr>\n",
       "      <th>2</th>\n",
       "      <td>Yes, even if you don't register, you're still ...</td>\n",
       "      <td>General course-related questions</td>\n",
       "      <td>Course - Can I still join the course after the...</td>\n",
       "      <td>data-engineering-zoomcamp</td>\n",
       "    </tr>\n",
       "    <tr>\n",
       "      <th>3</th>\n",
       "      <td>You don't need it. You're accepted. You can al...</td>\n",
       "      <td>General course-related questions</td>\n",
       "      <td>Course - I have registered for the Data Engine...</td>\n",
       "      <td>data-engineering-zoomcamp</td>\n",
       "    </tr>\n",
       "    <tr>\n",
       "      <th>4</th>\n",
       "      <td>You can start by installing and setting up all...</td>\n",
       "      <td>General course-related questions</td>\n",
       "      <td>Course - What can I do before the course starts?</td>\n",
       "      <td>data-engineering-zoomcamp</td>\n",
       "    </tr>\n",
       "  </tbody>\n",
       "</table>\n",
       "</div>"
      ],
      "text/plain": [
       "                                                text  \\\n",
       "0  The purpose of this document is to capture fre...   \n",
       "1  GitHub - DataTalksClub data-engineering-zoomca...   \n",
       "2  Yes, even if you don't register, you're still ...   \n",
       "3  You don't need it. You're accepted. You can al...   \n",
       "4  You can start by installing and setting up all...   \n",
       "\n",
       "                            section  \\\n",
       "0  General course-related questions   \n",
       "1  General course-related questions   \n",
       "2  General course-related questions   \n",
       "3  General course-related questions   \n",
       "4  General course-related questions   \n",
       "\n",
       "                                            question  \\\n",
       "0               Course - When will the course start?   \n",
       "1  Course - What are the prerequisites for this c...   \n",
       "2  Course - Can I still join the course after the...   \n",
       "3  Course - I have registered for the Data Engine...   \n",
       "4   Course - What can I do before the course starts?   \n",
       "\n",
       "                      course  \n",
       "0  data-engineering-zoomcamp  \n",
       "1  data-engineering-zoomcamp  \n",
       "2  data-engineering-zoomcamp  \n",
       "3  data-engineering-zoomcamp  \n",
       "4  data-engineering-zoomcamp  "
      ]
     },
     "execution_count": 13,
     "metadata": {},
     "output_type": "execute_result"
    }
   ],
   "source": [
    "# DataFrame from documents:\n",
    "df_documents = pd.DataFrame(documents)\n",
    "display(df_documents.course.value_counts())\n",
    "df_documents.head()"
   ]
  },
  {
   "cell_type": "code",
   "execution_count": 14,
   "id": "bbec7a6e-1dbc-4800-bb9c-e707f8c4dacd",
   "metadata": {},
   "outputs": [],
   "source": [
    "# Fit our search\n",
    "model_index = minsearch.Index(\n",
    "    text_fields=[\"question\", \"text\", \"section\"],\n",
    "    keyword_fields=[\"course\"]\n",
    ")\n",
    "\n",
    "model_index.fit(documents);"
   ]
  },
  {
   "cell_type": "code",
   "execution_count": 15,
   "id": "8469ef94-b399-453b-9654-dabc9b8f897b",
   "metadata": {},
   "outputs": [
    {
     "data": {
      "text/plain": [
       "[{'text': 'Yes, you can. You won’t be able to submit some of the homeworks, but you can still take part in the course.\\nIn order to get a certificate, you need to submit 2 out of 3 course projects and review 3 peers’ Projects by the deadline. It means that if you join the course at the end of November and manage to work on two projects, you will still be eligible for a certificate.',\n",
       "  'section': 'General course-related questions',\n",
       "  'question': 'The course has already started. Can I still join it?',\n",
       "  'course': 'machine-learning-zoomcamp'},\n",
       " {'text': \"Here’s how you join a in Slack: https://slack.com/help/articles/205239967-Join-a-channel\\nClick “All channels” at the top of your left sidebar. If you don't see this option, click “More” to find it.\\nBrowse the list of public channels in your workspace, or use the search bar to search by channel name or description.\\nSelect a channel from the list to view it.\\nClick Join Channel.\\nDo we need to provide the GitHub link to only our code corresponding to the homework questions?\\nYes. You are required to provide the URL to your repo in order to receive a grade\",\n",
       "  'section': 'General course-related questions',\n",
       "  'question': 'I’m new to Slack and can’t find the course channel. Where is it?',\n",
       "  'course': 'machine-learning-zoomcamp'},\n",
       " {'text': 'Approximately 4 months, but may take more if you want to do some extra activities (an extra project, an article, etc)',\n",
       "  'section': 'General course-related questions',\n",
       "  'question': 'How long is the course?',\n",
       "  'course': 'machine-learning-zoomcamp'},\n",
       " {'text': 'The course videos are pre-recorded, you can start watching the course right now.\\nWe will also occasionally have office hours - live sessions where we will answer your questions. The office hours sessions are recorded too.\\nYou can see the office hours as well as the pre-recorded course videos in the course playlist on YouTube.',\n",
       "  'section': 'General course-related questions',\n",
       "  'question': 'Is it going to be live? When?',\n",
       "  'course': 'machine-learning-zoomcamp'},\n",
       " {'text': \"The process is automated now, so you should receive the email eventually. If you haven’t, check your promotions tab in Gmail as well as spam.\\nIf you unsubscribed from our newsletter, you won't get course related updates too.\\nBut don't worry, it’s not a problem. To make sure you don’t miss anything, join the #course-ml-zoomcamp channel in Slack and our telegram channel with announcements. This is enough to follow the course.\",\n",
       "  'section': 'General course-related questions',\n",
       "  'question': \"I filled the form, but haven't received a confirmation email. Is it normal?\",\n",
       "  'course': 'machine-learning-zoomcamp'}]"
      ]
     },
     "execution_count": 15,
     "metadata": {},
     "output_type": "execute_result"
    }
   ],
   "source": [
    "example_question = \"Is it still possible to join the course?\"\n",
    "\n",
    "serch_results = model_index.search(\n",
    "    query=example_question,\n",
    "    filter_dict={\"course\": \"machine-learning-zoomcamp\"},\n",
    "    boost_dict={\"question\": 3.0, \"section\": 0.3},\n",
    "    num_results=5\n",
    ")\n",
    "\n",
    "serch_results"
   ]
  },
  {
   "cell_type": "markdown",
   "id": "e63162da-a67e-43ed-9219-0e6257d04e95",
   "metadata": {},
   "source": [
    "## RAG: Search engine + OpenAI"
   ]
  },
  {
   "cell_type": "code",
   "execution_count": 14,
   "id": "b7ca109a-16d9-4fbe-b542-8a4485209380",
   "metadata": {},
   "outputs": [
    {
     "data": {
      "text/plain": [
       "'Is it still possible to join the course?'"
      ]
     },
     "execution_count": 14,
     "metadata": {},
     "output_type": "execute_result"
    }
   ],
   "source": [
    "example_question"
   ]
  },
  {
   "cell_type": "code",
   "execution_count": 15,
   "id": "9725c38b-f72a-4276-96a2-440680c74e04",
   "metadata": {},
   "outputs": [],
   "source": [
    "prompt_template = \"\"\"\n",
    "You are a course teaching assistant.\n",
    "Answer the QUESTION.\n",
    "Use only the facts from CONTEXT (from FAQ database) to answer the QUESTION. If CONTEXT does not contain the answer, output NONE.\n",
    "\n",
    "QUESTION: {question}\n",
    "\n",
    "CONTEXT:\n",
    "{context}\n",
    "\"\"\""
   ]
  },
  {
   "cell_type": "code",
   "execution_count": 16,
   "id": "4c61782c-528a-4bea-ac82-5f0ea2d89f9a",
   "metadata": {},
   "outputs": [],
   "source": [
    "# step 1: query the database\n",
    "search_results = model_index.search(\n",
    "    query=example_question,\n",
    "    # filter_dict={\"course\": \"machine-learning-zoomcamp\"},\n",
    "    filter_dict={\"course\": \"data-engineering-zoomcamp\"},\n",
    "    boost_dict={\"question\": 3.0, \"section\": 0.3},\n",
    "    num_results=5\n",
    ")\n",
    "\n",
    "# step 2: build the context\n",
    "context = \"\"\n",
    "for res in search_results:\n",
    "    context += f\"\"\" - section: {res['section']}\\n - question: {res['question']}\\n - answer: {res['text']}\\n\\n\"\"\"\n",
    "\n",
    "# step 3: generate prompt\n",
    "prompt = prompt_template.format(question=example_question, context=context).strip()"
   ]
  },
  {
   "cell_type": "code",
   "execution_count": 17,
   "id": "48a250fc-088b-43bc-89a7-c9f7c6f4f34a",
   "metadata": {},
   "outputs": [],
   "source": [
    "# step 4: query ChatGPT via API:\n",
    "response = openai_client.chat.completions.create(\n",
    "    model=\"gpt-4o\",\n",
    "    messages=[\n",
    "        {\n",
    "            \"role\": \"user\",\n",
    "            \"content\": prompt\n",
    "        }\n",
    "    ],\n",
    ")"
   ]
  },
  {
   "cell_type": "code",
   "execution_count": 18,
   "id": "70714a29-42e9-48c7-b2fa-092422fcba65",
   "metadata": {},
   "outputs": [
    {
     "data": {
      "text/plain": [
       "\"Yes, it is still possible to join the course. Even if you don't register, you're still eligible to submit the homeworks. Just be mindful of the deadlines for turning in the final projects.\""
      ]
     },
     "execution_count": 18,
     "metadata": {},
     "output_type": "execute_result"
    }
   ],
   "source": [
    "response.choices[0].message.content"
   ]
  },
  {
   "cell_type": "code",
   "execution_count": 16,
   "id": "d852dc42-b24d-450c-90d7-090f5f89249c",
   "metadata": {},
   "outputs": [],
   "source": [
    "def search(query: str) -> [dict]:\n",
    "    boost = {\"question\": 3.0, \"section\": 0.3}    \n",
    "    search_results = model_index.search(\n",
    "        query=query,\n",
    "        # filter_dict={\"course\": \"machine-learning-zoomcamp\"},\n",
    "        filter_dict={\"course\": \"data-engineering-zoomcamp\"},\n",
    "        boost_dict=boost,\n",
    "        num_results=5\n",
    "    )\n",
    "    return search_results"
   ]
  },
  {
   "cell_type": "code",
   "execution_count": 17,
   "id": "2d21da21-4313-42b9-936d-397ba25e8142",
   "metadata": {},
   "outputs": [],
   "source": [
    "def build_prompt(query: str, search_results: [dict]):\n",
    "    prompt_template = \"\"\"\n",
    "You are a course teaching assistant.\n",
    "Answer the QUESTION.\n",
    "Use only the facts from CONTEXT (from FAQ database) to answer the QUESTION. If CONTEXT does not contain the answer, output NONE.\n",
    "\n",
    "QUESTION: {question}\n",
    "\n",
    "CONTEXT:\n",
    "{context}\n",
    "    \"\"\"\n",
    "\n",
    "    context = \"\"\n",
    "    for res in search_results:\n",
    "        context += f\"\"\" - section: {res['section']}\\n - question: {res['question']}\\n - answer: {res['text']}\\n\\n\"\"\"\n",
    "    \n",
    "    prompt = prompt_template.format(question=query, context=context).strip()\n",
    "    return prompt"
   ]
  },
  {
   "cell_type": "code",
   "execution_count": 18,
   "id": "e04ae184-3aa6-4731-b5ff-a3f65c3983b3",
   "metadata": {},
   "outputs": [],
   "source": [
    "def llm(prompt: str) -> str:\n",
    "    \"\"\"Request to ChatGPT API to make a query\"\"\"\n",
    "    response = openai_client.chat.completions.create(\n",
    "        model=\"gpt-4o\",\n",
    "        messages=[\n",
    "            {\n",
    "                \"role\": \"user\",\n",
    "                \"content\": prompt\n",
    "            }\n",
    "        ],\n",
    "    )\n",
    "    return response.choices[0].message.content"
   ]
  },
  {
   "cell_type": "code",
   "execution_count": 19,
   "id": "63633b8c-905c-4022-867d-c563226013b8",
   "metadata": {},
   "outputs": [],
   "source": [
    "def rag(query: str):\n",
    "    # 1. search locally\n",
    "    faq_results = search(query)\n",
    "    # 2. build a prompt\n",
    "    prompt = build_prompt(query, search_results=faq_results)\n",
    "    # 3. ask OpenAI\n",
    "    answer = llm(prompt)\n",
    "    return answer"
   ]
  },
  {
   "cell_type": "code",
   "execution_count": 20,
   "id": "27669dc4-2b27-4977-b35f-26b94b2bce4a",
   "metadata": {},
   "outputs": [
    {
     "data": {
      "text/plain": [
       "\"Yes, it is possible to join the course after it has started. Even if you don't register initially, you are still eligible to submit the homeworks. However, be aware that there will be deadlines for turning in the final projects, so it is not advisable to leave everything to the last minute.\""
      ]
     },
     "execution_count": 20,
     "metadata": {},
     "output_type": "execute_result"
    }
   ],
   "source": [
    "rag(\"Is it possible to join the course after start?\")"
   ]
  },
  {
   "cell_type": "markdown",
   "id": "e73654c4-a0c6-4ae2-b5a9-9dd948ae811b",
   "metadata": {},
   "source": [
    "### Elasticsearch: replace search by the new search engine"
   ]
  },
  {
   "cell_type": "code",
   "execution_count": 21,
   "id": "63792ae6-1330-486f-bcd8-7dab979ee59f",
   "metadata": {},
   "outputs": [],
   "source": [
    "from elasticsearch import Elasticsearch"
   ]
  },
  {
   "cell_type": "code",
   "execution_count": 28,
   "id": "f12c1701-fe67-43f7-bfbd-e0fa61a966ff",
   "metadata": {},
   "outputs": [],
   "source": [
    "# elasticsearch - container name in docker-compose\n",
    "es_client = Elasticsearch(\"http://elasticsearch:9200\")\n",
    "# es_client.info()"
   ]
  },
  {
   "cell_type": "code",
   "execution_count": 31,
   "id": "2fd346e7-dec7-4fb7-bc39-989d164d9136",
   "metadata": {},
   "outputs": [
    {
     "data": {
      "text/plain": [
       "ObjectApiResponse({'acknowledged': True, 'shards_acknowledged': True, 'index': 'course-descripiton'})"
      ]
     },
     "execution_count": 31,
     "metadata": {},
     "output_type": "execute_result"
    }
   ],
   "source": [
    "# Elastic config definition\n",
    "index_settings = {\n",
    "    \"settings\": {\n",
    "        \"number_of_shards\": 1,\n",
    "        \"number_of_replicas\": 0,\n",
    "    },\n",
    "    \"mappings\": {\n",
    "        \"properties\": {\n",
    "            \"text\": {\"type\": \"text\"},\n",
    "            \"section\": {\"type\": \"text\"},\n",
    "            \"question\": {\"type\": \"text\"},\n",
    "            \"course\": {\"type\": \"keyword\"},\n",
    "        }\n",
    "    },\n",
    "}\n",
    "\n",
    "index_name = \"course-descripiton\"\n",
    "\n",
    "# create index\n",
    "es_client.indices.create(\n",
    "    index=index_name,\n",
    "    body=index_settings\n",
    ")"
   ]
  },
  {
   "cell_type": "code",
   "execution_count": 37,
   "id": "56efbbb2-bc2b-4e7f-84d4-e12ad5f2d262",
   "metadata": {},
   "outputs": [
    {
     "name": "stderr",
     "output_type": "stream",
     "text": [
      "100%|██████████| 948/948 [00:01<00:00, 525.97it/s]\n"
     ]
    }
   ],
   "source": [
    "# Add document to index one by one:\n",
    "for doc in tqdm(documents):\n",
    "    es_client.index(index=index_name, document=doc)"
   ]
  },
  {
   "cell_type": "code",
   "execution_count": 41,
   "id": "8d2846cb-3f13-422a-8b76-70ffc0e8616e",
   "metadata": {},
   "outputs": [],
   "source": [
    "query = \"How to run kafka?\"\n",
    "\n",
    "search_query = {\n",
    "    \"size\": 5,\n",
    "    \"query\": {\n",
    "        \"bool\": {\n",
    "            \"must\": {\n",
    "                \"multi_match\": {\n",
    "                    \"query\": query,\n",
    "                    \"fields\": [\"question^3\", \"text\", \"section\"],\n",
    "                    \"type\": \"best_fields\",\n",
    "                }\n",
    "            },\n",
    "            \"filter\": {\n",
    "                \"term\": {\n",
    "                    \"course\": \"data-engineering-zoomcamp\"\n",
    "                }\n",
    "            },\n",
    "        }\n",
    "    }\n",
    "}\n",
    "\n",
    "response = es_client.search(index=index_name, body=search_query)"
   ]
  },
  {
   "cell_type": "code",
   "execution_count": 45,
   "id": "fa482a49-509f-4fd4-879e-9b5ae6aec58c",
   "metadata": {},
   "outputs": [],
   "source": [
    "# save initial documents found as doc list:\n",
    "result_docs = []\n",
    "for hit in response[\"hits\"][\"hits\"]:\n",
    "    result_docs.append(hit[\"_source\"])"
   ]
  },
  {
   "cell_type": "code",
   "execution_count": 47,
   "id": "eee7b05f-2da4-43c9-9176-9c5d3303b21a",
   "metadata": {},
   "outputs": [],
   "source": [
    "def elastic_search(query: str) -> list[dict]:\n",
    "    # setup elastic request\n",
    "    search_query = {\n",
    "        \"size\": 5,\n",
    "        \"query\": {\n",
    "            \"bool\": {\n",
    "                \"must\": {\n",
    "                    \"multi_match\": {\n",
    "                        \"query\": query,\n",
    "                        \"fields\": [\"question^3\", \"text\", \"section\"],\n",
    "                        \"type\": \"best_fields\",\n",
    "                    }\n",
    "                },\n",
    "                \"filter\": {\n",
    "                    \"term\": {\n",
    "                        \"course\": \"data-engineering-zoomcamp\"\n",
    "                    }\n",
    "                },\n",
    "            }\n",
    "        }\n",
    "    }\n",
    "    \n",
    "    # search in elastic\n",
    "    response = es_client.search(index=index_name, body=search_query)\n",
    "    \n",
    "    # save initial documents found as doc list:\n",
    "    result_docs = []\n",
    "    for hit in response[\"hits\"][\"hits\"]:\n",
    "        result_docs.append(hit[\"_source\"])\n",
    "\n",
    "    return result_docs"
   ]
  },
  {
   "cell_type": "code",
   "execution_count": 57,
   "id": "b6ebc285-8b29-4ec4-a42a-37367f68a69a",
   "metadata": {},
   "outputs": [],
   "source": [
    "# updated RAG flow\n",
    "def rag(query: str) -> str:\n",
    "    # 1. search in elastic\n",
    "    faq_results = elastic_search(query)\n",
    "    # 2. build a prompt\n",
    "    prompt = build_prompt(query, search_results=faq_results)\n",
    "    # 3. ask OpenAI\n",
    "    answer = llm(prompt)\n",
    "    return answer"
   ]
  },
  {
   "cell_type": "code",
   "execution_count": 55,
   "id": "92613687-512b-41d8-b581-98f34af8008c",
   "metadata": {},
   "outputs": [
    {
     "name": "stdout",
     "output_type": "stream",
     "text": [
      "Based on the provided context, it appears that Kafka is covered extensively in Module 6, specifically related to issues and configurations with Python Kafka, Java Kafka, and Confluent Kafka. Here are a few highlights:\n",
      "\n",
      "1. To resolve the \"Permission denied\" error when running `./build.sh`:\n",
      "   - Run `chmod +x build.sh` in the terminal within the `/docker/spark` directory.\n",
      "\n",
      "2. If the \"kafka\" module is not found when running `producer.py`:\n",
      "   - Create a virtual environment and install packages using `python -m venv env`, activate it with `source env/bin/activate`, and install requirements with `pip install -r ../requirements.txt`.\n",
      "\n",
      "3. For Java Kafka tests not picked up in VSCode:\n",
      "   - Go to VS Code, navigate to JAVA PROJECTS in the Explorer, clean Workspace, and reload.\n",
      "\n",
      "4. To find the schema registry URL in Confluent Kafka:\n",
      "   - Navigate to your environment → \"Stream Governance API\" → The URL under “Endpoint” in Confluent Cloud.\n",
      "\n",
      "Thus, if you have any specific query about Kafka, one of these details might help depending on your context. If your question is not addressed here, the answer is NONE.\n"
     ]
    }
   ],
   "source": [
    "answer = rag(query=\"Kafka?\")\n",
    "print(answer)"
   ]
  },
  {
   "cell_type": "code",
   "execution_count": null,
   "id": "dad6f3d7-d5bd-4189-9712-5cec9b5f8f5c",
   "metadata": {},
   "outputs": [],
   "source": []
  }
 ],
 "metadata": {
  "kernelspec": {
   "display_name": "Python 3 (ipykernel)",
   "language": "python",
   "name": "python3"
  },
  "language_info": {
   "codemirror_mode": {
    "name": "ipython",
    "version": 3
   },
   "file_extension": ".py",
   "mimetype": "text/x-python",
   "name": "python",
   "nbconvert_exporter": "python",
   "pygments_lexer": "ipython3",
   "version": "3.11.9"
  }
 },
 "nbformat": 4,
 "nbformat_minor": 5
}
